{
 "cells": [
  {
   "cell_type": "code",
   "execution_count": 27,
   "metadata": {
    "collapsed": true,
    "pycharm": {
     "name": "#%%\n"
    }
   },
   "outputs": [
    {
     "data": {
      "text/plain": "          order_id      shop_id      user_id   order_amount  total_items\ncount  5000.000000  5000.000000  5000.000000    5000.000000   5000.00000\nmean   2500.500000    50.078800   849.092400    3145.128000      8.78720\nstd    1443.520003    29.006118    87.798982   41282.539349    116.32032\nmin       1.000000     1.000000   607.000000      90.000000      1.00000\n20%    1000.800000    19.800000   759.800000     156.000000      1.00000\n40%    2000.600000    40.000000   818.600000     236.000000      2.00000\n50%    2500.500000    50.000000   849.000000     284.000000      2.00000\n60%    3000.400000    60.000000   877.000000     322.000000      2.00000\n80%    4000.200000    80.000000   940.000000     444.000000      3.00000\n95%    4750.050000    96.000000   985.000000     640.000000      4.00000\nmax    5000.000000   100.000000   999.000000  704000.000000   2000.00000",
      "text/html": "<div>\n<style scoped>\n    .dataframe tbody tr th:only-of-type {\n        vertical-align: middle;\n    }\n\n    .dataframe tbody tr th {\n        vertical-align: top;\n    }\n\n    .dataframe thead th {\n        text-align: right;\n    }\n</style>\n<table border=\"1\" class=\"dataframe\">\n  <thead>\n    <tr style=\"text-align: right;\">\n      <th></th>\n      <th>order_id</th>\n      <th>shop_id</th>\n      <th>user_id</th>\n      <th>order_amount</th>\n      <th>total_items</th>\n    </tr>\n  </thead>\n  <tbody>\n    <tr>\n      <th>count</th>\n      <td>5000.000000</td>\n      <td>5000.000000</td>\n      <td>5000.000000</td>\n      <td>5000.000000</td>\n      <td>5000.00000</td>\n    </tr>\n    <tr>\n      <th>mean</th>\n      <td>2500.500000</td>\n      <td>50.078800</td>\n      <td>849.092400</td>\n      <td>3145.128000</td>\n      <td>8.78720</td>\n    </tr>\n    <tr>\n      <th>std</th>\n      <td>1443.520003</td>\n      <td>29.006118</td>\n      <td>87.798982</td>\n      <td>41282.539349</td>\n      <td>116.32032</td>\n    </tr>\n    <tr>\n      <th>min</th>\n      <td>1.000000</td>\n      <td>1.000000</td>\n      <td>607.000000</td>\n      <td>90.000000</td>\n      <td>1.00000</td>\n    </tr>\n    <tr>\n      <th>20%</th>\n      <td>1000.800000</td>\n      <td>19.800000</td>\n      <td>759.800000</td>\n      <td>156.000000</td>\n      <td>1.00000</td>\n    </tr>\n    <tr>\n      <th>40%</th>\n      <td>2000.600000</td>\n      <td>40.000000</td>\n      <td>818.600000</td>\n      <td>236.000000</td>\n      <td>2.00000</td>\n    </tr>\n    <tr>\n      <th>50%</th>\n      <td>2500.500000</td>\n      <td>50.000000</td>\n      <td>849.000000</td>\n      <td>284.000000</td>\n      <td>2.00000</td>\n    </tr>\n    <tr>\n      <th>60%</th>\n      <td>3000.400000</td>\n      <td>60.000000</td>\n      <td>877.000000</td>\n      <td>322.000000</td>\n      <td>2.00000</td>\n    </tr>\n    <tr>\n      <th>80%</th>\n      <td>4000.200000</td>\n      <td>80.000000</td>\n      <td>940.000000</td>\n      <td>444.000000</td>\n      <td>3.00000</td>\n    </tr>\n    <tr>\n      <th>95%</th>\n      <td>4750.050000</td>\n      <td>96.000000</td>\n      <td>985.000000</td>\n      <td>640.000000</td>\n      <td>4.00000</td>\n    </tr>\n    <tr>\n      <th>max</th>\n      <td>5000.000000</td>\n      <td>100.000000</td>\n      <td>999.000000</td>\n      <td>704000.000000</td>\n      <td>2000.00000</td>\n    </tr>\n  </tbody>\n</table>\n</div>"
     },
     "execution_count": 27,
     "metadata": {},
     "output_type": "execute_result"
    }
   ],
   "source": [
    "#Question 1\n",
    "from pandas import read_excel\n",
    "\n",
    "data = read_excel('2019 Winter Data Science Intern Challenge Data Set.xlsx')\n",
    "perc =[.20,.40 ,.60 ,.80, .95]\n",
    "data.describe( percentiles = perc)\n"
   ]
  },
  {
   "cell_type": "code",
   "execution_count": 28,
   "outputs": [],
   "source": [
    "#Here with the percentiles we can clearly see that 95% of the order value is between 90$ and 640$\n"
   ],
   "metadata": {
    "collapsed": false,
    "pycharm": {
     "name": "#%%\n"
    }
   }
  },
  {
   "cell_type": "code",
   "execution_count": 29,
   "outputs": [
    {
     "data": {
      "text/plain": "      order_id  shop_id  user_id  order_amount  total_items payment_method  \\\n2153      2154       42      607        704000         2000    credit_card   \n3332      3333       42      607        704000         2000    credit_card   \n520        521       42      607        704000         2000    credit_card   \n1602      1603       42      607        704000         2000    credit_card   \n60          61       42      607        704000         2000    credit_card   \n2835      2836       42      607        704000         2000    credit_card   \n4646      4647       42      607        704000         2000    credit_card   \n2297      2298       42      607        704000         2000    credit_card   \n1436      1437       42      607        704000         2000    credit_card   \n4882      4883       42      607        704000         2000    credit_card   \n4056      4057       42      607        704000         2000    credit_card   \n15          16       42      607        704000         2000    credit_card   \n1104      1105       42      607        704000         2000    credit_card   \n1562      1563       42      607        704000         2000    credit_card   \n2969      2970       42      607        704000         2000    credit_card   \n4868      4869       42      607        704000         2000    credit_card   \n1362      1363       42      607        704000         2000    credit_card   \n691        692       78      878        154350            6          debit   \n2492      2493       78      834        102900            4          debit   \n\n                  created_at  \n2153 2017-03-12 04:00:00.000  \n3332 2017-03-24 04:00:00.000  \n520  2017-03-02 04:00:00.000  \n1602 2017-03-17 04:00:00.000  \n60   2017-03-04 04:00:00.000  \n2835 2017-03-28 04:00:00.000  \n4646 2017-03-02 04:00:00.000  \n2297 2017-03-07 04:00:00.000  \n1436 2017-03-11 04:00:00.000  \n4882 2017-03-25 04:00:00.000  \n4056 2017-03-28 04:00:00.000  \n15   2017-03-07 04:00:00.000  \n1104 2017-03-24 04:00:00.000  \n1562 2017-03-19 04:00:00.000  \n2969 2017-03-28 04:00:00.000  \n4868 2017-03-22 04:00:00.000  \n1362 2017-03-15 04:00:00.000  \n691  2017-03-27 22:51:43.203  \n2492 2017-03-04 04:37:33.848  ",
      "text/html": "<div>\n<style scoped>\n    .dataframe tbody tr th:only-of-type {\n        vertical-align: middle;\n    }\n\n    .dataframe tbody tr th {\n        vertical-align: top;\n    }\n\n    .dataframe thead th {\n        text-align: right;\n    }\n</style>\n<table border=\"1\" class=\"dataframe\">\n  <thead>\n    <tr style=\"text-align: right;\">\n      <th></th>\n      <th>order_id</th>\n      <th>shop_id</th>\n      <th>user_id</th>\n      <th>order_amount</th>\n      <th>total_items</th>\n      <th>payment_method</th>\n      <th>created_at</th>\n    </tr>\n  </thead>\n  <tbody>\n    <tr>\n      <th>2153</th>\n      <td>2154</td>\n      <td>42</td>\n      <td>607</td>\n      <td>704000</td>\n      <td>2000</td>\n      <td>credit_card</td>\n      <td>2017-03-12 04:00:00.000</td>\n    </tr>\n    <tr>\n      <th>3332</th>\n      <td>3333</td>\n      <td>42</td>\n      <td>607</td>\n      <td>704000</td>\n      <td>2000</td>\n      <td>credit_card</td>\n      <td>2017-03-24 04:00:00.000</td>\n    </tr>\n    <tr>\n      <th>520</th>\n      <td>521</td>\n      <td>42</td>\n      <td>607</td>\n      <td>704000</td>\n      <td>2000</td>\n      <td>credit_card</td>\n      <td>2017-03-02 04:00:00.000</td>\n    </tr>\n    <tr>\n      <th>1602</th>\n      <td>1603</td>\n      <td>42</td>\n      <td>607</td>\n      <td>704000</td>\n      <td>2000</td>\n      <td>credit_card</td>\n      <td>2017-03-17 04:00:00.000</td>\n    </tr>\n    <tr>\n      <th>60</th>\n      <td>61</td>\n      <td>42</td>\n      <td>607</td>\n      <td>704000</td>\n      <td>2000</td>\n      <td>credit_card</td>\n      <td>2017-03-04 04:00:00.000</td>\n    </tr>\n    <tr>\n      <th>2835</th>\n      <td>2836</td>\n      <td>42</td>\n      <td>607</td>\n      <td>704000</td>\n      <td>2000</td>\n      <td>credit_card</td>\n      <td>2017-03-28 04:00:00.000</td>\n    </tr>\n    <tr>\n      <th>4646</th>\n      <td>4647</td>\n      <td>42</td>\n      <td>607</td>\n      <td>704000</td>\n      <td>2000</td>\n      <td>credit_card</td>\n      <td>2017-03-02 04:00:00.000</td>\n    </tr>\n    <tr>\n      <th>2297</th>\n      <td>2298</td>\n      <td>42</td>\n      <td>607</td>\n      <td>704000</td>\n      <td>2000</td>\n      <td>credit_card</td>\n      <td>2017-03-07 04:00:00.000</td>\n    </tr>\n    <tr>\n      <th>1436</th>\n      <td>1437</td>\n      <td>42</td>\n      <td>607</td>\n      <td>704000</td>\n      <td>2000</td>\n      <td>credit_card</td>\n      <td>2017-03-11 04:00:00.000</td>\n    </tr>\n    <tr>\n      <th>4882</th>\n      <td>4883</td>\n      <td>42</td>\n      <td>607</td>\n      <td>704000</td>\n      <td>2000</td>\n      <td>credit_card</td>\n      <td>2017-03-25 04:00:00.000</td>\n    </tr>\n    <tr>\n      <th>4056</th>\n      <td>4057</td>\n      <td>42</td>\n      <td>607</td>\n      <td>704000</td>\n      <td>2000</td>\n      <td>credit_card</td>\n      <td>2017-03-28 04:00:00.000</td>\n    </tr>\n    <tr>\n      <th>15</th>\n      <td>16</td>\n      <td>42</td>\n      <td>607</td>\n      <td>704000</td>\n      <td>2000</td>\n      <td>credit_card</td>\n      <td>2017-03-07 04:00:00.000</td>\n    </tr>\n    <tr>\n      <th>1104</th>\n      <td>1105</td>\n      <td>42</td>\n      <td>607</td>\n      <td>704000</td>\n      <td>2000</td>\n      <td>credit_card</td>\n      <td>2017-03-24 04:00:00.000</td>\n    </tr>\n    <tr>\n      <th>1562</th>\n      <td>1563</td>\n      <td>42</td>\n      <td>607</td>\n      <td>704000</td>\n      <td>2000</td>\n      <td>credit_card</td>\n      <td>2017-03-19 04:00:00.000</td>\n    </tr>\n    <tr>\n      <th>2969</th>\n      <td>2970</td>\n      <td>42</td>\n      <td>607</td>\n      <td>704000</td>\n      <td>2000</td>\n      <td>credit_card</td>\n      <td>2017-03-28 04:00:00.000</td>\n    </tr>\n    <tr>\n      <th>4868</th>\n      <td>4869</td>\n      <td>42</td>\n      <td>607</td>\n      <td>704000</td>\n      <td>2000</td>\n      <td>credit_card</td>\n      <td>2017-03-22 04:00:00.000</td>\n    </tr>\n    <tr>\n      <th>1362</th>\n      <td>1363</td>\n      <td>42</td>\n      <td>607</td>\n      <td>704000</td>\n      <td>2000</td>\n      <td>credit_card</td>\n      <td>2017-03-15 04:00:00.000</td>\n    </tr>\n    <tr>\n      <th>691</th>\n      <td>692</td>\n      <td>78</td>\n      <td>878</td>\n      <td>154350</td>\n      <td>6</td>\n      <td>debit</td>\n      <td>2017-03-27 22:51:43.203</td>\n    </tr>\n    <tr>\n      <th>2492</th>\n      <td>2493</td>\n      <td>78</td>\n      <td>834</td>\n      <td>102900</td>\n      <td>4</td>\n      <td>debit</td>\n      <td>2017-03-04 04:37:33.848</td>\n    </tr>\n  </tbody>\n</table>\n</div>"
     },
     "execution_count": 29,
     "metadata": {},
     "output_type": "execute_result"
    }
   ],
   "source": [
    "data.sort_values(by=['order_amount'], ascending=False).head(19)"
   ],
   "metadata": {
    "collapsed": false,
    "pycharm": {
     "name": "#%%\n"
    }
   }
  },
  {
   "cell_type": "code",
   "execution_count": 31,
   "outputs": [
    {
     "data": {
      "text/plain": "284.0"
     },
     "execution_count": 31,
     "metadata": {},
     "output_type": "execute_result"
    }
   ],
   "source": [
    "# Question 1\n",
    "# a)\n",
    "# As we can see, in the 20 biggest orders we have extreme order values which makes\n",
    "# the averaging not representative of the normal order value. We can't compare extraordinary orders\n",
    "# of 700 000$ with ordinary ones of 90$.\n",
    "\n",
    "# One of the solutions would be to remove these extreme values from a certain amount\n",
    "# but I think that with this solution we lose the concept of overall picture that\n",
    "# the calculation of the average offers us. The best method in my opinion is to calculate\n",
    "# the general trend of the orders values and this is easily done with the calculation of the median.\n",
    "# This allows us to obtain the best overall picture of the normal order value.\n",
    "\n",
    "\n",
    "\n",
    "# b) The metric used is the median.\n",
    "\n",
    "# c) The median order value is 284$\n",
    "data['order_amount'].median()\n",
    "\n",
    "\n"
   ],
   "metadata": {
    "collapsed": false,
    "pycharm": {
     "name": "#%%\n"
    }
   }
  }
 ],
 "metadata": {
  "kernelspec": {
   "display_name": "Python 3",
   "language": "python",
   "name": "python3"
  },
  "language_info": {
   "codemirror_mode": {
    "name": "ipython",
    "version": 2
   },
   "file_extension": ".py",
   "mimetype": "text/x-python",
   "name": "python",
   "nbconvert_exporter": "python",
   "pygments_lexer": "ipython2",
   "version": "2.7.6"
  }
 },
 "nbformat": 4,
 "nbformat_minor": 0
}